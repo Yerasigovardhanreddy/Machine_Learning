{
 "cells": [
  {
   "cell_type": "code",
   "execution_count": 14,
   "id": "43d22a5c",
   "metadata": {},
   "outputs": [],
   "source": [
    "from sklearn.linear_model import LogisticRegression\n",
    "from sklearn.svm import SVC\n",
    "from sklearn.tree import DecisionTreeClassifier\n",
    "from sklearn.ensemble import RandomForestClassifier\n",
    "import numpy as np\n",
    "from sklearn.datasets import load_iris\n",
    "import matplotlib.pyplot as plt\n",
    "iris = load_iris()"
   ]
  },
  {
   "cell_type": "code",
   "execution_count": 15,
   "id": "9093ea0c",
   "metadata": {},
   "outputs": [],
   "source": [
    "from sklearn.model_selection import train_test_split\n",
    "X_train, X_test, y_train, y_test = train_test_split(iris.data,iris.target,test_size=0.3)"
   ]
  },
  {
   "cell_type": "code",
   "execution_count": 16,
   "id": "8a977cc3",
   "metadata": {},
   "outputs": [],
   "source": [
    "from sklearn.model_selection import cross_val_score\n"
   ]
  },
  {
   "cell_type": "code",
   "execution_count": 73,
   "id": "58fa2fd8",
   "metadata": {},
   "outputs": [
    {
     "data": {
      "text/plain": [
       "0.9533333333333333"
      ]
     },
     "execution_count": 73,
     "metadata": {},
     "output_type": "execute_result"
    }
   ],
   "source": [
    "lg1 =cross_val_score(LogisticRegression(solver='liblinear',multi_class='ovr'), iris.data, iris.target,cv=3)\n",
    "np.average(lg1)"
   ]
  },
  {
   "cell_type": "code",
   "execution_count": 79,
   "id": "2ecb11b5",
   "metadata": {},
   "outputs": [
    {
     "data": {
      "text/plain": [
       "0.9533333333333333"
      ]
     },
     "execution_count": 79,
     "metadata": {},
     "output_type": "execute_result"
    }
   ],
   "source": [
    "lg2=cross_val_score(LogisticRegression(solver='liblinear',multi_class='ovr',n_jobs=1), iris.data, iris.target,cv=3)\n",
    "np.average(lg2)"
   ]
  },
  {
   "cell_type": "code",
   "execution_count": null,
   "id": "e744bf87",
   "metadata": {},
   "outputs": [],
   "source": [
    "lg3 = cross_val_score(LogisticRegression(solver='',multi_class='ovr',n_jobs=1), iris.data, iris.target,cv=3)\n",
    "np.average(lg3)"
   ]
  },
  {
   "cell_type": "code",
   "execution_count": 67,
   "id": "0884f48f",
   "metadata": {},
   "outputs": [
    {
     "data": {
      "text/plain": [
       "0.96"
      ]
     },
     "execution_count": 67,
     "metadata": {},
     "output_type": "execute_result"
    }
   ],
   "source": [
    "sv1 = cross_val_score(SVC(C=40, kernel='linear', degree=3,gamma='auto'), iris.data, iris.target,cv=3)\n",
    "np.average(sv1)"
   ]
  },
  {
   "cell_type": "code",
   "execution_count": 70,
   "id": "70b198cf",
   "metadata": {},
   "outputs": [
    {
     "data": {
      "text/plain": [
       "0.98"
      ]
     },
     "execution_count": 70,
     "metadata": {},
     "output_type": "execute_result"
    }
   ],
   "source": [
    "sv2 = cross_val_score(SVC(C=20, kernel='rbf', degree=3, gamma='scale'), iris.data, iris.target,cv=3)\n",
    "np.average(sv2)"
   ]
  },
  {
   "cell_type": "code",
   "execution_count": 33,
   "id": "cc688965",
   "metadata": {},
   "outputs": [
    {
     "data": {
      "text/plain": [
       "0.9533333333333333"
      ]
     },
     "execution_count": 33,
     "metadata": {},
     "output_type": "execute_result"
    }
   ],
   "source": [
    "rc2 = cross_val_score(RandomForestClassifier(n_estimators=30), iris.data, iris.target,cv=3)\n",
    "np.average(rc2)"
   ]
  },
  {
   "cell_type": "code",
   "execution_count": 56,
   "id": "1d498fb3",
   "metadata": {},
   "outputs": [
    {
     "data": {
      "text/plain": [
       "0.9666666666666667"
      ]
     },
     "execution_count": 56,
     "metadata": {},
     "output_type": "execute_result"
    }
   ],
   "source": [
    "rc3 = cross_val_score(RandomForestClassifier(n_estimators=50), iris.data, iris.target,cv=3)\n",
    "np.average(rc3)"
   ]
  },
  {
   "cell_type": "code",
   "execution_count": 53,
   "id": "119ae1e6",
   "metadata": {},
   "outputs": [
    {
     "data": {
      "text/plain": [
       "0.9666666666666667"
      ]
     },
     "execution_count": 53,
     "metadata": {},
     "output_type": "execute_result"
    }
   ],
   "source": [
    "dt1 =cross_val_score(DecisionTreeClassifier(criterion='gini'), iris.data, iris.target,cv=3)\n",
    "np.average(dt1)"
   ]
  },
  {
   "cell_type": "code",
   "execution_count": 54,
   "id": "20332e5f",
   "metadata": {},
   "outputs": [
    {
     "data": {
      "text/plain": [
       "0.9533333333333333"
      ]
     },
     "execution_count": 54,
     "metadata": {},
     "output_type": "execute_result"
    }
   ],
   "source": [
    "dt2 =cross_val_score(DecisionTreeClassifier(criterion='entropy'), iris.data, iris.target,cv=3)\n",
    "np.average(dt2)"
   ]
  },
  {
   "cell_type": "code",
   "execution_count": null,
   "id": "20469e16",
   "metadata": {},
   "outputs": [],
   "source": []
  },
  {
   "cell_type": "code",
   "execution_count": null,
   "id": "96ba280a",
   "metadata": {},
   "outputs": [],
   "source": []
  }
 ],
 "metadata": {
  "kernelspec": {
   "display_name": "Python 3 (ipykernel)",
   "language": "python",
   "name": "python3"
  },
  "language_info": {
   "codemirror_mode": {
    "name": "ipython",
    "version": 3
   },
   "file_extension": ".py",
   "mimetype": "text/x-python",
   "name": "python",
   "nbconvert_exporter": "python",
   "pygments_lexer": "ipython3",
   "version": "3.9.13"
  }
 },
 "nbformat": 4,
 "nbformat_minor": 5
}
